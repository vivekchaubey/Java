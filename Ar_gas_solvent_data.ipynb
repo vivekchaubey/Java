{
 "cells": [
  {
   "cell_type": "markdown",
   "metadata": {},
   "source": [
    "## APPROACH: \n",
    "\n",
    "## Assuming only CO2 gas, we are selecting a set of salts, and ONLY single salt\n",
    "\n",
    "\n",
    "## Once we have that, the features we are using are: ion concentrations, ion charge, and ion energy. "
   ]
  },
  {
   "cell_type": "code",
   "execution_count": 1,
   "metadata": {},
   "outputs": [],
   "source": [
    "import numpy as np\n",
    "import pandas as pd\n",
    "\n",
    "from sklearn.model_selection import train_test_split\n",
    "from sklearn.utils import shuffle\n",
    "from sklearn.preprocessing import StandardScaler\n",
    "\n",
    "from sklearn.tree import DecisionTreeRegressor\n",
    "from sklearn.ensemble import RandomForestRegressor\n",
    "\n",
    "import matplotlib.pyplot as plt\n",
    "from sklearn.model_selection import GridSearchCV\n",
    "\n",
    "from tensorflow.keras.models import Sequential\n",
    "from tensorflow.keras.layers import Dense\n",
    "from keras.layers import Dropout\n",
    "from tensorflow.keras.callbacks import EarlyStopping\n",
    "\n",
    "from sklearn.metrics import mean_squared_error\n",
    "from sklearn.metrics import mean_absolute_error\n",
    "\n",
    "from tqdm import tqdm"
   ]
  },
  {
   "cell_type": "code",
   "execution_count": 2,
   "metadata": {},
   "outputs": [],
   "source": [
    "Kg={\"He\":-0.222,\"H2\":-0.2144,\"Ne\":-0.224,\"N2\":-0.1904,\"Ar\":-0.1866,\"O2\":-0.1737,\"Kr\":-0.1762,\"C2H4\":-0.1977,\n",
    "        \"N2O\":-0.2144,\"C2H2\":-0.2182,\"CO2\":-0.2377,\"H2S\":-0.2551,\"NH3\":-0.2394,\"SO2\":-0.3154,\"CH4\":-0.2168,\n",
    "        \"DME\":-0.1972,\"Cl\":0.3416,\"Br\":0.3310,\"I\":0.3124,\"NO3\":0.3230,\"OH\":0.3875,\"CNS\":0.2612,\"HS\":0.3718,\n",
    "        \"HCO3\":0.4286,\"SO4\":0.3446,\"CO3\":0.3754,\"SO3\":0.3275,\"PO4\":0.3265,\"Li\":-0.0416,\"Na\":-0.0183,\"K\":-0.0362,\n",
    "        \"Cs\":-0.0584,\"NH4\":-0.0737,\"H\":-0.1110,\"Rb\":-0.0449,\"Mg\":-0.0568,\"Ca\":-0.0547,\"Ba\":-0.0473,\"Zn\":-0.0590,\n",
    "        \"Sr\":-0.0445,\"Fe\":-0.0602,\"Co\":-0.0534,\"Ni\":-0.0520,\"Mn\":-0.0625,\"Al\":-0.726}\n",
    "\n",
    "anioncharge={\"Cl\":1,\"Br\":1,\"I\":1,\"NO3\":1,\"OH\":1,\"CNS\":1,\"HS\":1,\"HCO3\":1,\"SO4\":2,\"CO3\":2,\"SO3\":2,\"PO4\":3}\n",
    "\n",
    "cationcharge={\"Li\":1,\"Na\":1,\"K\":1,\"Cs\":1,\"NH4\":1,\"H\":1,\"Rb\":1,\"Mg\":2,\"Ca\":2,\"Ba\":2,\"Zn\":2,\"Sr\":2,\"Fe\":2,\"Co\":2,\n",
    "         \"Ni\":2,\"Mn\":2,\"Al\":3}\n",
    "\n",
    "gas_tb={\"He\":4.15,\"H2\":20.15,\"Ne\":24.45,\"N2\":77.15,\"Ar\":87.15,\"O2\":90.15,\"Kr\":119.93,\"C2H4\":169.45,\n",
    "        \"N2O\":184.67,\"C2H2\":189.15,\"CO2\":194.65,\"H2S\":212.87,\"NH3\":237.65,\"SO2\":263.15,\"CH4\":111.65,\n",
    "        \"DME\":249.00,\"C2H6\":184.6, \"C3H8\":231.1, \"C4H10\":272.7}\n",
    "\n",
    "gas_tc={\"He\":5.19,\"H2\":33.2,\"Ne\":44.4,\"N2\":126.2,\"Ar\":150.8,\"O2\":154.6,\"Kr\":209.3,\"C2H4\":282.4,\n",
    "        \"N2O\":309.5,\"C2H2\":309.2,\"CO2\":304.19,\"H2S\":373.65,\"NH3\":405.5,\"SO2\":430.8,\"CH4\":190.6,\n",
    "        \"DME\":400.1, \"C2H6\":305.4, \"C3H8\":369.8, \"C4H10\":425.2}\n",
    "\n",
    "gas_pc={\"H2\":12.97,\"N2\":33.95,\"CO2\":73.78,\"H2S\":89.37,\"CH4\":46.01,\"DME\":52.37,\"C2H6\":48.85,\"C3H8\":42.47,\n",
    "        \"C4H10\":38.01, \"He\":2.27, \"Ne\":27.6,\"Ar\":48.7,\"O2\":50.5,\"Kr\":55,\"C2H4\":50.41,\"N2O\":72.4,\"C2H2\":62.45,\n",
    "        \"NH3\":112.8,\"SO2\":78.84}\n",
    "\n",
    "gas_mol_wt={\"H2\":2.02,\"N2\":28.01,\"CO2\":44.01,\"H2S\":34.08,\"CH4\":16.04,\n",
    "        \"DME\":46.07,\"C2H6\":30.07,\"C3H8\":44.1,\"C4H10\":58.12}\n",
    "\n",
    "acc_factor={\"He\":0,\"H2\":-0.22,\"Ne\":0,\"N2\":0.04,\"Ar\":0,\"O2\":0.022,\"Kr\":0,\"C2H4\":0.089,\n",
    "        \"N2O\":0.142,\"C2H2\":0.187,\"CO2\":0.225,\"H2S\":0.1,\"NH3\":0.253,\"SO2\":0.251,\"CH4\":0.008,\n",
    "        \"DME\":0.189, \"C2H6\":0.098, \"C3H8\":0.152, \"C4H10\":0.193}\n",
    "\n",
    "cation_hydration_energy={\"Li\":475,\"Na\":365,\"K\":295,\"Cs\":250,\"NH4\":285,\"H\":1050,\"Rb\":275,\"Mg\":1830,\"Ca\":1505,\n",
    "                         \"Ba\":1250,\"Zn\":1955,\"Sr\":1380,\"Fe\":1840,\"Co\":1915,\"Ni\":1980,\"Mn\":1760,\n",
    "                         \"Al\":4525}\n",
    "\n",
    "anion_hydration_energy={\"Cl\":340,\"Br\":315,\"I\":275,\"NO3\":300,\"OH\":430,\"CNS\":280,\"HS\":295,\"HCO3\":335,\"SO4\":1080,\n",
    "                        \"CO3\":1315,\"SO3\":1295,\"PO4\":2765}"
   ]
  },
  {
   "cell_type": "code",
   "execution_count": 3,
   "metadata": {},
   "outputs": [],
   "source": [
    "## input\n",
    "salts=[\"NaCl\",\"NaHCO3\",\"CaCl2\",\"CaCO3\",\"CaSO4\",\"MgCl2\",\"MgCO3\",\"KCl\",\"MgSO4\"]\n",
    "gas=\"Ar\""
   ]
  },
  {
   "cell_type": "code",
   "execution_count": 4,
   "metadata": {},
   "outputs": [
    {
     "name": "stdout",
     "output_type": "stream",
     "text": [
      "CPU times: user 694 ms, sys: 155 ms, total: 849 ms\n",
      "Wall time: 722 ms\n"
     ]
    },
    {
     "data": {
      "text/plain": [
       "133993"
      ]
     },
     "execution_count": 4,
     "metadata": {},
     "output_type": "execute_result"
    }
   ],
   "source": [
    "#%%time\n",
    "\n",
    "concentration_values=[]\n",
    "\n",
    "low=0\n",
    "delta=0.2\n",
    "high=2+delta\n",
    "\n",
    "concentrations=list(np.arange(low,high,delta))\n",
    "\n",
    "for i1 in concentrations:\n",
    "    for i2 in list(np.arange(low,high-i1,delta)):\n",
    "        for i3 in list(np.arange(low,high-i1-i2,delta)):\n",
    "            for i4 in list(np.arange(low,high-i1-i2-i3,delta)):\n",
    "                for i5 in list(np.arange(low,high-i1-i2-i3-i4,delta)):\n",
    "                    for i6 in list(np.arange(low,high-i1-i2-i3-i4-i5,delta)):\n",
    "                        for i7 in list(np.arange(low,high-i1-i2-i3-i4-i5-i6,delta)):\n",
    "                            for i8 in list(np.arange(low,high-i1-i2-i3-i4-i5-i6-i7,delta)):\n",
    "                                for i9 in list(np.arange(low,high-i1-i2-i3-i4-i5-i6-i7-i8,delta)):\n",
    "                                    concentration_values.append([i1,i2,i3,i4,i5,i6,i7,i8,i9])\n",
    "                                    \n",
    "\n",
    "a=len(concentration_values) # molarity conc\n",
    "a"
   ]
  },
  {
   "cell_type": "code",
   "execution_count": 5,
   "metadata": {},
   "outputs": [
    {
     "data": {
      "text/plain": [
       "[('NaCl', 0.0),\n",
       " ('NaHCO3', 0.0),\n",
       " ('CaCl2', 0.0),\n",
       " ('CaCO3', 0.0),\n",
       " ('CaSO4', 0.0),\n",
       " ('MgCl2', 0.0),\n",
       " ('MgCO3', 0.0),\n",
       " ('KCl', 0.0),\n",
       " ('MgSO4', 0.0)]"
      ]
     },
     "execution_count": 5,
     "metadata": {},
     "output_type": "execute_result"
    }
   ],
   "source": [
    "saltss=len(concentration_values)*[salts]\n",
    "salts_conc=list(zip(saltss,concentration_values))\n",
    "salts_conc=[list(zip(each[0],each[1])) for each in salts_conc]\n",
    "salts_conc[0]"
   ]
  },
  {
   "cell_type": "code",
   "execution_count": 6,
   "metadata": {},
   "outputs": [],
   "source": [
    "def splitsalt(salt):\n",
    "    cation,catfactor,anion,anionfactor,i=\"\",0,\"\",0,0\n",
    "\n",
    "    if salt[:1] in cationcharge:\n",
    "        cation=salt[:1]\n",
    "        try:\n",
    "            catfactor,i=int(salt[1]),2\n",
    "        except:\n",
    "            catfactor,i=1,1\n",
    "    elif salt[:2] in cationcharge:\n",
    "        cation=salt[:2]\n",
    "        try:\n",
    "            catfactor,i=int(salt[2]),3\n",
    "        except:\n",
    "            catfactor,i=1,2\n",
    "\n",
    "    if salt[i:] in anioncharge:\n",
    "        anion=salt[i:]\n",
    "        anionfactor=1\n",
    "    else:\n",
    "        anion=salt[i:-1]\n",
    "        anionfactor=int(salt[-1])\n",
    "    return cation,catfactor,anion,anionfactor"
   ]
  },
  {
   "cell_type": "code",
   "execution_count": 7,
   "metadata": {},
   "outputs": [],
   "source": [
    "cations=set()\n",
    "anions=set()\n",
    "for salt in salts:\n",
    "    splits=splitsalt(salt)\n",
    "    cation,anion=splits[0],splits[2]\n",
    "    cations.add(cation)\n",
    "    anions.add(anion)\n",
    "cations=list(cations)\n",
    "anions=list(anions)"
   ]
  },
  {
   "cell_type": "code",
   "execution_count": 8,
   "metadata": {},
   "outputs": [
    {
     "data": {
      "text/plain": [
       "['Ca', 'K', 'Mg', 'Na']"
      ]
     },
     "execution_count": 8,
     "metadata": {},
     "output_type": "execute_result"
    }
   ],
   "source": [
    "cations=sorted(cations)\n",
    "cations"
   ]
  },
  {
   "cell_type": "code",
   "execution_count": 9,
   "metadata": {},
   "outputs": [
    {
     "data": {
      "text/plain": [
       "['CO3', 'Cl', 'HCO3', 'SO4']"
      ]
     },
     "execution_count": 9,
     "metadata": {},
     "output_type": "execute_result"
    }
   ],
   "source": [
    "anions=sorted(anions)\n",
    "anions"
   ]
  },
  {
   "cell_type": "code",
   "execution_count": 10,
   "metadata": {},
   "outputs": [
    {
     "name": "stdout",
     "output_type": "stream",
     "text": [
      "CPU times: user 4 µs, sys: 1e+03 ns, total: 5 µs\n",
      "Wall time: 6.91 µs\n"
     ]
    }
   ],
   "source": [
    "#%%time\n",
    "def createdata(salts,concentrations):\n",
    "    features=[]\n",
    "    #features.extend(salts)\n",
    "    salts_conc=[each+\"_concentration\" for each in salts]\n",
    "    features.extend(salts_conc)\n",
    "    df=pd.DataFrame(data=concentrations,columns=features)\n",
    "    return df"
   ]
  },
  {
   "cell_type": "code",
   "execution_count": 11,
   "metadata": {},
   "outputs": [
    {
     "name": "stdout",
     "output_type": "stream",
     "text": [
      "CPU times: user 140 ms, sys: 12 ms, total: 153 ms\n",
      "Wall time: 152 ms\n"
     ]
    }
   ],
   "source": [
    "#%%time\n",
    "df=createdata(salts,concentration_values)"
   ]
  },
  {
   "cell_type": "code",
   "execution_count": 12,
   "metadata": {},
   "outputs": [],
   "source": [
    "## add ions charge and energy"
   ]
  },
  {
   "cell_type": "code",
   "execution_count": 13,
   "metadata": {},
   "outputs": [
    {
     "name": "stderr",
     "output_type": "stream",
     "text": [
      "100%|██████████| 133993/133993 [00:04<00:00, 26992.35it/s]"
     ]
    },
    {
     "name": "stdout",
     "output_type": "stream",
     "text": [
      "CPU times: user 4.75 s, sys: 210 ms, total: 4.96 s\n",
      "Wall time: 4.98 s\n"
     ]
    },
    {
     "name": "stderr",
     "output_type": "stream",
     "text": [
      "\n"
     ]
    }
   ],
   "source": [
    "#%%time\n",
    "charges_dict_list=[]\n",
    "energy_dict_list=[]\n",
    "\n",
    "for each in tqdm(salts_conc):\n",
    "    charges={}\n",
    "    energy={}\n",
    "    for each2 in each:\n",
    "        splits=splitsalt(each2[0])\n",
    "        cation,anion=splits[0],splits[2]\n",
    "        if each2[1]!=0:\n",
    "            charges[cation]=cationcharge[cation]\n",
    "            charges[anion]=anioncharge[anion]\n",
    "            energy[cation]=cation_hydration_energy[cation]\n",
    "            energy[anion]=anion_hydration_energy[anion]\n",
    "        else:\n",
    "            if cation not in charges:\n",
    "                charges[cation]=0\n",
    "            if anion not in charges:\n",
    "                charges[anion]=0\n",
    "            if cation not in energy:\n",
    "                energy[cation]=0\n",
    "            if anion not in energy:\n",
    "                energy[anion]=0\n",
    "    charges_dict_list.append(charges)\n",
    "    energy_dict_list.append(energy)"
   ]
  },
  {
   "cell_type": "code",
   "execution_count": 14,
   "metadata": {},
   "outputs": [
    {
     "data": {
      "text/plain": [
       "{'Na': 0, 'Cl': 0, 'HCO3': 0, 'Ca': 0, 'CO3': 0, 'SO4': 0, 'Mg': 0, 'K': 0}"
      ]
     },
     "execution_count": 14,
     "metadata": {},
     "output_type": "execute_result"
    }
   ],
   "source": [
    "charges_dict_list[0]"
   ]
  },
  {
   "cell_type": "code",
   "execution_count": 15,
   "metadata": {},
   "outputs": [
    {
     "data": {
      "text/plain": [
       "{'Na': 0, 'Cl': 0, 'HCO3': 0, 'Ca': 0, 'CO3': 0, 'SO4': 0, 'Mg': 0, 'K': 0}"
      ]
     },
     "execution_count": 15,
     "metadata": {},
     "output_type": "execute_result"
    }
   ],
   "source": [
    "energy_dict_list[0]"
   ]
  },
  {
   "cell_type": "code",
   "execution_count": 16,
   "metadata": {},
   "outputs": [
    {
     "name": "stdout",
     "output_type": "stream",
     "text": [
      "CPU times: user 29.9 ms, sys: 4.15 ms, total: 34 ms\n",
      "Wall time: 32.3 ms\n"
     ]
    }
   ],
   "source": [
    "#%%time\n",
    "df[\"charges_dictionary\"]=charges_dict_list\n",
    "df[\"energy_dictionary\"]=energy_dict_list"
   ]
  },
  {
   "cell_type": "code",
   "execution_count": 17,
   "metadata": {},
   "outputs": [],
   "source": [
    "ions=list(df[\"charges_dictionary\"].loc[0].keys())\n",
    "charge_features=[ion+\"_charge\" for ion in ions]\n",
    "energy_features=[ion+\"_energy\" for ion in ions]\n",
    "\n",
    "for each in charge_features:\n",
    "    df[each]=np.nan\n",
    "for each in energy_features:\n",
    "    df[each]=np.nan"
   ]
  },
  {
   "cell_type": "code",
   "execution_count": 18,
   "metadata": {
    "scrolled": true
   },
   "outputs": [
    {
     "name": "stderr",
     "output_type": "stream",
     "text": [
      "/Users/vivekchaubey/opt/anaconda3/lib/python3.8/site-packages/tqdm/std.py:697: FutureWarning: The Panel class is removed from pandas. Accessing it from the top-level namespace will also be removed in the next version\n",
      "  from pandas import Panel\n",
      "100%|██████████| 133993/133993 [00:00<00:00, 495443.11it/s]\n",
      "100%|██████████| 133993/133993 [00:00<00:00, 504425.22it/s]\n",
      "100%|██████████| 133993/133993 [00:00<00:00, 528415.97it/s]\n",
      "100%|██████████| 133993/133993 [00:00<00:00, 527367.26it/s]\n",
      "100%|██████████| 133993/133993 [00:00<00:00, 535183.96it/s]\n",
      "100%|██████████| 133993/133993 [00:00<00:00, 532910.97it/s]\n",
      "100%|██████████| 133993/133993 [00:00<00:00, 518197.41it/s]\n",
      "100%|██████████| 133993/133993 [00:00<00:00, 554581.53it/s]\n",
      "100%|██████████| 133993/133993 [00:00<00:00, 536521.53it/s]\n",
      "100%|██████████| 133993/133993 [00:00<00:00, 531246.10it/s]\n",
      "100%|██████████| 133993/133993 [00:00<00:00, 527447.93it/s]\n",
      "100%|██████████| 133993/133993 [00:00<00:00, 513003.72it/s]\n",
      "100%|██████████| 133993/133993 [00:00<00:00, 532824.07it/s]\n",
      "100%|██████████| 133993/133993 [00:00<00:00, 525011.89it/s]\n",
      "100%|██████████| 133993/133993 [00:00<00:00, 517731.02it/s]\n",
      "100%|██████████| 133993/133993 [00:00<00:00, 554003.68it/s]"
     ]
    },
    {
     "name": "stdout",
     "output_type": "stream",
     "text": [
      "CPU times: user 4.07 s, sys: 65.9 ms, total: 4.13 s\n",
      "Wall time: 4.12 s\n"
     ]
    },
    {
     "name": "stderr",
     "output_type": "stream",
     "text": [
      "\n"
     ]
    }
   ],
   "source": [
    "#%%time\n",
    "tqdm.pandas()\n",
    "\n",
    "for each in charge_features:\n",
    "    df[each]=df[\"charges_dictionary\"].progress_apply(lambda x:x[each.split(\"_\")[0]])\n",
    "    \n",
    "for each in energy_features:\n",
    "    df[each]=df[\"energy_dictionary\"].progress_apply(lambda x:x[each.split(\"_\")[0]])"
   ]
  },
  {
   "cell_type": "code",
   "execution_count": 19,
   "metadata": {},
   "outputs": [],
   "source": [
    "## add ion concentrations"
   ]
  },
  {
   "cell_type": "code",
   "execution_count": 20,
   "metadata": {},
   "outputs": [
    {
     "name": "stderr",
     "output_type": "stream",
     "text": [
      "100%|██████████| 133993/133993 [00:05<00:00, 24620.19it/s]"
     ]
    },
    {
     "name": "stdout",
     "output_type": "stream",
     "text": [
      "CPU times: user 5.27 s, sys: 152 ms, total: 5.42 s\n",
      "Wall time: 5.45 s\n"
     ]
    },
    {
     "name": "stderr",
     "output_type": "stream",
     "text": [
      "\n"
     ]
    }
   ],
   "source": [
    "#%%time\n",
    "ions_conc=[]\n",
    "\n",
    "for each in tqdm(salts_conc):\n",
    "    conc={}\n",
    "    for each2 in each:\n",
    "        cation,catval,anion,anionval=splitsalt(each2[0])\n",
    "        if cation not in conc:\n",
    "            conc[cation]=each2[1]*catval\n",
    "        else:\n",
    "            conc[cation]+=each2[1]*catval\n",
    "            \n",
    "        if anion not in conc:\n",
    "            conc[anion]=each2[1]*anionval\n",
    "        else:\n",
    "            conc[anion]+=each2[1]*anionval\n",
    "    ions_conc.append(conc)"
   ]
  },
  {
   "cell_type": "code",
   "execution_count": 21,
   "metadata": {},
   "outputs": [
    {
     "name": "stdout",
     "output_type": "stream",
     "text": [
      "CPU times: user 17.3 ms, sys: 883 µs, total: 18.1 ms\n",
      "Wall time: 18.2 ms\n"
     ]
    }
   ],
   "source": [
    "#%%time\n",
    "df[\"ions_conc_dic\"]=ions_conc"
   ]
  },
  {
   "cell_type": "code",
   "execution_count": 22,
   "metadata": {},
   "outputs": [],
   "source": [
    "ion_features=[ion+\"_concentration\" for ion in ions]\n",
    "\n",
    "for each in ion_features:\n",
    "    df[each]=np.nan"
   ]
  },
  {
   "cell_type": "code",
   "execution_count": 23,
   "metadata": {},
   "outputs": [
    {
     "name": "stderr",
     "output_type": "stream",
     "text": [
      "100%|██████████| 133993/133993 [00:00<00:00, 405067.29it/s]\n",
      "100%|██████████| 133993/133993 [00:00<00:00, 532881.66it/s]\n",
      "100%|██████████| 133993/133993 [00:00<00:00, 568132.99it/s]\n",
      "100%|██████████| 133993/133993 [00:00<00:00, 509554.82it/s]\n",
      "100%|██████████| 133993/133993 [00:00<00:00, 575043.03it/s]\n",
      "100%|██████████| 133993/133993 [00:00<00:00, 560101.35it/s]\n",
      "100%|██████████| 133993/133993 [00:00<00:00, 513520.75it/s]\n",
      "100%|██████████| 133993/133993 [00:00<00:00, 544404.07it/s]\n"
     ]
    }
   ],
   "source": [
    "for each in ion_features:\n",
    "    df[each]=df[\"ions_conc_dic\"].progress_apply(lambda x:x[each.split(\"_\")[0]])"
   ]
  },
  {
   "cell_type": "code",
   "execution_count": 24,
   "metadata": {},
   "outputs": [],
   "source": [
    "def calcis(zc,cc,za,ca,M):\n",
    "    out=(((zc*zc)*cc)+((za*za)*ca))/2\n",
    "    return out*M"
   ]
  },
  {
   "cell_type": "code",
   "execution_count": 25,
   "metadata": {},
   "outputs": [],
   "source": [
    "## calc rs"
   ]
  },
  {
   "cell_type": "code",
   "execution_count": 26,
   "metadata": {},
   "outputs": [
    {
     "name": "stderr",
     "output_type": "stream",
     "text": [
      "100%|██████████| 133993/133993 [00:05<00:00, 25799.25it/s]"
     ]
    },
    {
     "name": "stdout",
     "output_type": "stream",
     "text": [
      "CPU times: user 5.11 s, sys: 78 ms, total: 5.19 s\n",
      "Wall time: 5.2 s\n"
     ]
    },
    {
     "name": "stderr",
     "output_type": "stream",
     "text": [
      "\n"
     ]
    }
   ],
   "source": [
    "#%%time\n",
    "rs_list=[]\n",
    "for each in tqdm(salts_conc):\n",
    "    val=0\n",
    "    #print(each)\n",
    "    for each2 in each:\n",
    "        cat,catval,ani,anival=splitsalt(each2[0])\n",
    "        isstr=calcis(cationcharge[cat],catval,anioncharge[ani],anival,each2[1])\n",
    "        kg=Kg[gas]+Kg[cat]+Kg[ani]\n",
    "        val+=isstr*kg\n",
    "    #print(val)\n",
    "    rs_list.append(val)\n",
    "    #print(\"########################\")"
   ]
  },
  {
   "cell_type": "code",
   "execution_count": 27,
   "metadata": {},
   "outputs": [
    {
     "name": "stdout",
     "output_type": "stream",
     "text": [
      "CPU times: user 17.8 ms, sys: 1.34 ms, total: 19.2 ms\n",
      "Wall time: 18.8 ms\n"
     ]
    }
   ],
   "source": [
    "#%%time\n",
    "df[\"rs\"]=rs_list"
   ]
  },
  {
   "cell_type": "code",
   "execution_count": 28,
   "metadata": {},
   "outputs": [],
   "source": [
    "df['gas'] = gas"
   ]
  },
  {
   "cell_type": "code",
   "execution_count": 29,
   "metadata": {},
   "outputs": [
    {
     "name": "stderr",
     "output_type": "stream",
     "text": [
      "100%|██████████| 133993/133993 [00:00<00:00, 812872.99it/s]\n",
      "100%|██████████| 133993/133993 [00:00<00:00, 807736.02it/s]\n",
      "100%|██████████| 133993/133993 [00:00<00:00, 728531.45it/s]\n"
     ]
    }
   ],
   "source": [
    "df['gas_tc'] = df[\"gas\"].progress_apply(lambda x:gas_tc[x])\n",
    "df['gas_pc'] = df[\"gas\"].progress_apply(lambda x:gas_pc[x])\n",
    "df['acc_factor'] = df[\"gas\"].progress_apply(lambda x:acc_factor[x])"
   ]
  },
  {
   "cell_type": "code",
   "execution_count": 30,
   "metadata": {
    "scrolled": true
   },
   "outputs": [
    {
     "data": {
      "text/plain": [
       "Index(['NaCl_concentration', 'NaHCO3_concentration', 'CaCl2_concentration',\n",
       "       'CaCO3_concentration', 'CaSO4_concentration', 'MgCl2_concentration',\n",
       "       'MgCO3_concentration', 'KCl_concentration', 'MgSO4_concentration',\n",
       "       'charges_dictionary', 'energy_dictionary', 'Na_charge', 'Cl_charge',\n",
       "       'HCO3_charge', 'Ca_charge', 'CO3_charge', 'SO4_charge', 'Mg_charge',\n",
       "       'K_charge', 'Na_energy', 'Cl_energy', 'HCO3_energy', 'Ca_energy',\n",
       "       'CO3_energy', 'SO4_energy', 'Mg_energy', 'K_energy', 'ions_conc_dic',\n",
       "       'Na_concentration', 'Cl_concentration', 'HCO3_concentration',\n",
       "       'Ca_concentration', 'CO3_concentration', 'SO4_concentration',\n",
       "       'Mg_concentration', 'K_concentration', 'rs', 'gas', 'gas_tc', 'gas_pc',\n",
       "       'acc_factor'],\n",
       "      dtype='object')"
      ]
     },
     "execution_count": 30,
     "metadata": {},
     "output_type": "execute_result"
    }
   ],
   "source": [
    "df.columns"
   ]
  },
  {
   "cell_type": "code",
   "execution_count": 31,
   "metadata": {},
   "outputs": [
    {
     "data": {
      "text/html": [
       "<div>\n",
       "<style scoped>\n",
       "    .dataframe tbody tr th:only-of-type {\n",
       "        vertical-align: middle;\n",
       "    }\n",
       "\n",
       "    .dataframe tbody tr th {\n",
       "        vertical-align: top;\n",
       "    }\n",
       "\n",
       "    .dataframe thead th {\n",
       "        text-align: right;\n",
       "    }\n",
       "</style>\n",
       "<table border=\"1\" class=\"dataframe\">\n",
       "  <thead>\n",
       "    <tr style=\"text-align: right;\">\n",
       "      <th></th>\n",
       "      <th>NaCl_concentration</th>\n",
       "      <th>NaHCO3_concentration</th>\n",
       "      <th>CaCl2_concentration</th>\n",
       "      <th>CaCO3_concentration</th>\n",
       "      <th>CaSO4_concentration</th>\n",
       "      <th>MgCl2_concentration</th>\n",
       "      <th>MgCO3_concentration</th>\n",
       "      <th>KCl_concentration</th>\n",
       "      <th>MgSO4_concentration</th>\n",
       "      <th>charges_dictionary</th>\n",
       "      <th>...</th>\n",
       "      <th>Ca_concentration</th>\n",
       "      <th>CO3_concentration</th>\n",
       "      <th>SO4_concentration</th>\n",
       "      <th>Mg_concentration</th>\n",
       "      <th>K_concentration</th>\n",
       "      <th>rs</th>\n",
       "      <th>gas</th>\n",
       "      <th>gas_tc</th>\n",
       "      <th>gas_pc</th>\n",
       "      <th>acc_factor</th>\n",
       "    </tr>\n",
       "  </thead>\n",
       "  <tbody>\n",
       "    <tr>\n",
       "      <th>0</th>\n",
       "      <td>0.0</td>\n",
       "      <td>0.0</td>\n",
       "      <td>0.0</td>\n",
       "      <td>0.0</td>\n",
       "      <td>0.0</td>\n",
       "      <td>0.0</td>\n",
       "      <td>0.0</td>\n",
       "      <td>0.0</td>\n",
       "      <td>0.0</td>\n",
       "      <td>{'Na': 0, 'Cl': 0, 'HCO3': 0, 'Ca': 0, 'CO3': ...</td>\n",
       "      <td>...</td>\n",
       "      <td>0.0</td>\n",
       "      <td>0.0</td>\n",
       "      <td>0.0</td>\n",
       "      <td>0.0</td>\n",
       "      <td>0.0</td>\n",
       "      <td>0.00000</td>\n",
       "      <td>Ar</td>\n",
       "      <td>150.8</td>\n",
       "      <td>48.7</td>\n",
       "      <td>0</td>\n",
       "    </tr>\n",
       "    <tr>\n",
       "      <th>1</th>\n",
       "      <td>0.0</td>\n",
       "      <td>0.0</td>\n",
       "      <td>0.0</td>\n",
       "      <td>0.0</td>\n",
       "      <td>0.0</td>\n",
       "      <td>0.0</td>\n",
       "      <td>0.0</td>\n",
       "      <td>0.0</td>\n",
       "      <td>0.2</td>\n",
       "      <td>{'Na': 0, 'Cl': 0, 'HCO3': 0, 'Ca': 0, 'CO3': ...</td>\n",
       "      <td>...</td>\n",
       "      <td>0.0</td>\n",
       "      <td>0.0</td>\n",
       "      <td>0.2</td>\n",
       "      <td>0.2</td>\n",
       "      <td>0.0</td>\n",
       "      <td>0.08096</td>\n",
       "      <td>Ar</td>\n",
       "      <td>150.8</td>\n",
       "      <td>48.7</td>\n",
       "      <td>0</td>\n",
       "    </tr>\n",
       "  </tbody>\n",
       "</table>\n",
       "<p>2 rows × 41 columns</p>\n",
       "</div>"
      ],
      "text/plain": [
       "   NaCl_concentration  NaHCO3_concentration  CaCl2_concentration  \\\n",
       "0                 0.0                   0.0                  0.0   \n",
       "1                 0.0                   0.0                  0.0   \n",
       "\n",
       "   CaCO3_concentration  CaSO4_concentration  MgCl2_concentration  \\\n",
       "0                  0.0                  0.0                  0.0   \n",
       "1                  0.0                  0.0                  0.0   \n",
       "\n",
       "   MgCO3_concentration  KCl_concentration  MgSO4_concentration  \\\n",
       "0                  0.0                0.0                  0.0   \n",
       "1                  0.0                0.0                  0.2   \n",
       "\n",
       "                                  charges_dictionary  ... Ca_concentration  \\\n",
       "0  {'Na': 0, 'Cl': 0, 'HCO3': 0, 'Ca': 0, 'CO3': ...  ...              0.0   \n",
       "1  {'Na': 0, 'Cl': 0, 'HCO3': 0, 'Ca': 0, 'CO3': ...  ...              0.0   \n",
       "\n",
       "   CO3_concentration  SO4_concentration  Mg_concentration  K_concentration  \\\n",
       "0                0.0                0.0               0.0              0.0   \n",
       "1                0.0                0.2               0.2              0.0   \n",
       "\n",
       "        rs  gas  gas_tc  gas_pc  acc_factor  \n",
       "0  0.00000   Ar   150.8    48.7           0  \n",
       "1  0.08096   Ar   150.8    48.7           0  \n",
       "\n",
       "[2 rows x 41 columns]"
      ]
     },
     "execution_count": 31,
     "metadata": {},
     "output_type": "execute_result"
    }
   ],
   "source": [
    "df.head(2)"
   ]
  },
  {
   "cell_type": "code",
   "execution_count": 32,
   "metadata": {},
   "outputs": [],
   "source": [
    "file_name = gas+'_data.csv'\n",
    "df.to_csv(file_name)"
   ]
  },
  {
   "cell_type": "code",
   "execution_count": null,
   "metadata": {},
   "outputs": [],
   "source": []
  },
  {
   "cell_type": "code",
   "execution_count": null,
   "metadata": {},
   "outputs": [],
   "source": []
  },
  {
   "cell_type": "code",
   "execution_count": null,
   "metadata": {},
   "outputs": [],
   "source": []
  },
  {
   "cell_type": "code",
   "execution_count": null,
   "metadata": {},
   "outputs": [],
   "source": []
  },
  {
   "cell_type": "code",
   "execution_count": null,
   "metadata": {},
   "outputs": [],
   "source": []
  },
  {
   "cell_type": "code",
   "execution_count": null,
   "metadata": {},
   "outputs": [],
   "source": []
  },
  {
   "cell_type": "code",
   "execution_count": null,
   "metadata": {},
   "outputs": [],
   "source": []
  },
  {
   "cell_type": "code",
   "execution_count": null,
   "metadata": {},
   "outputs": [],
   "source": []
  },
  {
   "cell_type": "code",
   "execution_count": null,
   "metadata": {},
   "outputs": [],
   "source": []
  },
  {
   "cell_type": "code",
   "execution_count": null,
   "metadata": {},
   "outputs": [],
   "source": []
  },
  {
   "cell_type": "code",
   "execution_count": null,
   "metadata": {},
   "outputs": [],
   "source": []
  },
  {
   "cell_type": "code",
   "execution_count": null,
   "metadata": {},
   "outputs": [],
   "source": []
  },
  {
   "cell_type": "code",
   "execution_count": 33,
   "metadata": {},
   "outputs": [],
   "source": [
    "features0=['Na_concentration', 'Cl_concentration', 'HCO3_concentration',\n",
    "            'Ca_concentration', 'CO3_concentration', 'SO4_concentration','Mg_concentration', \n",
    "            'K_concentration']\n",
    "\n",
    "features1=['Na_energy', 'Cl_energy', 'HCO3_energy', 'Ca_energy','CO3_energy', 'SO4_energy', \n",
    "            'Mg_energy', 'K_energy','Na_concentration', 'Cl_concentration', 'HCO3_concentration',\n",
    "            'Ca_concentration', 'CO3_concentration', 'SO4_concentration','Mg_concentration', \n",
    "            'K_concentration']\n",
    "\n",
    "features2=['Na_charge', 'Cl_charge', 'HCO3_charge', 'Ca_charge', 'CO3_charge', 'SO4_charge', 'Mg_charge',\n",
    "            'K_charge','Na_concentration', 'Cl_concentration', 'HCO3_concentration',\n",
    "            'Ca_concentration', 'CO3_concentration', 'SO4_concentration','Mg_concentration', \n",
    "            'K_concentration']\n",
    "\n",
    "features3=['Na_charge', 'Cl_charge', 'HCO3_charge', 'Ca_charge', 'CO3_charge', 'SO4_charge', 'Mg_charge',\n",
    "            'K_charge', 'Na_energy', 'Cl_energy', 'HCO3_energy', 'Ca_energy','CO3_energy', 'SO4_energy', \n",
    "            'Mg_energy', 'K_energy','Na_concentration', 'Cl_concentration', 'HCO3_concentration',\n",
    "            'Ca_concentration', 'CO3_concentration', 'SO4_concentration','Mg_concentration', \n",
    "            'K_concentration']"
   ]
  },
  {
   "cell_type": "code",
   "execution_count": 34,
   "metadata": {},
   "outputs": [],
   "source": [
    "## save as csv"
   ]
  }
 ],
 "metadata": {
  "kernelspec": {
   "display_name": "Python 3 (ipykernel)",
   "language": "python",
   "name": "python3"
  },
  "language_info": {
   "codemirror_mode": {
    "name": "ipython",
    "version": 3
   },
   "file_extension": ".py",
   "mimetype": "text/x-python",
   "name": "python",
   "nbconvert_exporter": "python",
   "pygments_lexer": "ipython3",
   "version": "3.9.13"
  }
 },
 "nbformat": 4,
 "nbformat_minor": 2
}
