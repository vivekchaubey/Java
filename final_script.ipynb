{
 "cells": [
  {
   "cell_type": "code",
   "execution_count": 1,
   "metadata": {},
   "outputs": [],
   "source": [
    "import numpy as np\n",
    "import pandas as pd\n",
    "import random\n",
    "import glob\n",
    "\n",
    "from sklearn.model_selection import train_test_split\n",
    "from sklearn.utils import shuffle\n",
    "from sklearn.preprocessing import StandardScaler, MinMaxScaler\n",
    "\n",
    "from sklearn.tree import DecisionTreeRegressor\n",
    "from sklearn.ensemble import RandomForestRegressor\n",
    "from sklearn.ensemble import GradientBoostingRegressor\n",
    "\n",
    "from sklearn.linear_model import LinearRegression  \n",
    "from sklearn.preprocessing import PolynomialFeatures  \n",
    "\n",
    "import matplotlib.pyplot as plt\n",
    "from sklearn.model_selection import GridSearchCV\n",
    "\n",
    "from sklearn.metrics import mean_squared_error\n",
    "from sklearn.metrics import mean_absolute_error\n",
    "\n",
    "import warnings\n",
    "warnings.filterwarnings(\"ignore\")\n",
    "\n",
    "%matplotlib inline"
   ]
  },
  {
   "cell_type": "code",
   "execution_count": 2,
   "metadata": {},
   "outputs": [],
   "source": [
    "df = pd.read_csv(\"clean_data.csv\")"
   ]
  },
  {
   "cell_type": "code",
   "execution_count": 3,
   "metadata": {},
   "outputs": [],
   "source": [
    "def dt_two_iterations_test_data(gas, data,features,output):\n",
    "    dataframe = data\n",
    "    X=dataframe[features]\n",
    "    y=dataframe[output]\n",
    "    X_train,X_test,y_train,y_test=train_test_split(X,y,test_size=0.1,random_state=10)\n",
    "    print(\"total data: \",data.shape)\n",
    "    print(\"train data: \", X_train.shape)\n",
    "    print(\"test data: \",X_test.shape)\n",
    "    scaler=StandardScaler()\n",
    "    X_train_transformed=scaler.fit_transform(X_train)\n",
    "    X_test_transformed=scaler.transform(X_test)\n",
    "    \n",
    "    # initiate the model instance\n",
    "    #print(\"Initiating Decision Tree Instance\")\n",
    "    dt=DecisionTreeRegressor(random_state=10)\n",
    "    rf = RandomForestRegressor(n_estimators=10, random_state=10)\n",
    "\n",
    "    # create default model\n",
    "    dt=DecisionTreeRegressor(random_state=10)\n",
    "    dt.fit(X_train_transformed,y_train)\n",
    "    treedepth=dt.tree_.max_depth\n",
    "    #print(\"Default Tree Depth: \",treedepth)\n",
    "\n",
    "    # optimize the model based on default tree path\n",
    "    grid_param= {'max_depth':list(np.arange(treedepth-10,treedepth+10))}\n",
    "    clf = GridSearchCV(rf, grid_param,cv=5,scoring='neg_mean_absolute_error')\n",
    "    clf.fit(X_train_transformed,y_train)\n",
    "    #print(\"Optimized Tree Depth: \",clf.best_params_[\"max_depth\"])\n",
    "\n",
    "    # run decision tree on optimized model \n",
    "    dt=DecisionTreeRegressor(max_depth=clf.best_params_[\"max_depth\"],random_state=10)\n",
    "    dt.fit(X_train_transformed,y_train)\n",
    "    ytrain_pred_dt_itr1 = dt.predict(X_train_transformed)\n",
    "    ytest_pred_dt_itr1 = dt.predict(X_test_transformed)\n",
    "\n",
    "    plt.plot(y_test,y_test,\"r\")\n",
    "    plt.scatter(x=y_test,y=ytest_pred_dt_itr1)\n",
    "    imgfile = gas +'.png'\n",
    "    print(imgfile)\n",
    "    plt.savefig(imgfile)"
   ]
  },
  {
   "cell_type": "code",
   "execution_count": 4,
   "metadata": {
    "scrolled": true
   },
   "outputs": [
    {
     "name": "stdout",
     "output_type": "stream",
     "text": [
      "total data:  (1394, 7)\n",
      "train data:  (1254, 5)\n",
      "test data:  (140, 5)\n",
      "predicted_test_data.png\n"
     ]
    },
    {
     "data": {
      "image/png": "[encoded data removed]",
      "text/plain": [
       "<Figure size 432x288 with 1 Axes>"
      ]
     },
     "metadata": {
      "needs_background": "light"
     },
     "output_type": "display_data"
    }
   ],
   "source": [
    "data = df\n",
    "features = ['T(K)','P(bar)','Pc','Tc','omega']\n",
    "output = ['x1']\n",
    "dt_two_iterations_test_data(\"predicted_test_data\", data, features, output)"
   ]
  },
  {
   "cell_type": "code",
   "execution_count": 6,
   "metadata": {},
   "outputs": [],
   "source": [
    "def dt_two_iterations_train_data(gas, data,features,output):\n",
    "    dataframe = data\n",
    "    X=dataframe[features]\n",
    "    y=dataframe[output]\n",
    "    X_train,X_test,y_train,y_test=train_test_split(X,y,test_size=0.1,random_state=10)\n",
    "    print(\"total data: \",data.shape)\n",
    "    print(\"train data: \", X_train.shape)\n",
    "    print(\"test data: \",X_test.shape)\n",
    "    scaler=StandardScaler()\n",
    "    X_train_transformed=scaler.fit_transform(X_train)\n",
    "    X_test_transformed=scaler.transform(X_test)\n",
    "    \n",
    "    # initiate the model instance\n",
    "    #print(\"Initiating Decision Tree Instance\")\n",
    "    dt=DecisionTreeRegressor(random_state=10)\n",
    "    rf = RandomForestRegressor(n_estimators=10, random_state=10)\n",
    "\n",
    "    # create default model\n",
    "    dt=DecisionTreeRegressor(random_state=10)\n",
    "    dt.fit(X_train_transformed,y_train)\n",
    "    treedepth=dt.tree_.max_depth\n",
    "    #print(\"Default Tree Depth: \",treedepth)\n",
    "\n",
    "    # optimize the model based on default tree path\n",
    "    grid_param= {'max_depth':list(np.arange(treedepth-10,treedepth+10))}\n",
    "    clf = GridSearchCV(rf, grid_param,cv=5,scoring='neg_mean_absolute_error')\n",
    "    clf.fit(X_train_transformed,y_train)\n",
    "    #print(\"Optimized Tree Depth: \",clf.best_params_[\"max_depth\"])\n",
    "\n",
    "    # run decision tree on optimized model \n",
    "    dt=DecisionTreeRegressor(max_depth=clf.best_params_[\"max_depth\"],random_state=10)\n",
    "    dt.fit(X_train_transformed,y_train)\n",
    "    ytrain_pred_dt_itr1 = dt.predict(X_train_transformed)\n",
    "    ytest_pred_dt_itr1 = dt.predict(X_test_transformed)\n",
    "    \n",
    "    dt_imp=dt.feature_importances_.tolist()\n",
    "    dt_tup=(features,dt_imp)\n",
    "    print(\"feature imp\")\n",
    "    print(dt_tup)\n",
    "\n",
    "    plt.plot(y_train,y_train,\"r\")\n",
    "    plt.scatter(x=y_train,y=ytrain_pred_dt_itr1)\n",
    "    imgfile = gas +'.png'\n",
    "    print(imgfile)\n",
    "    plt.savefig(imgfile)"
   ]
  },
  {
   "cell_type": "code",
   "execution_count": 7,
   "metadata": {
    "scrolled": true
   },
   "outputs": [
    {
     "name": "stdout",
     "output_type": "stream",
     "text": [
      "total data:  (1394, 7)\n",
      "train data:  (1254, 5)\n",
      "test data:  (140, 5)\n",
      "feature imp\n",
      "(['T(K)', 'P(bar)', 'Pc', 'Tc', 'omega'], [0.3450262378233348, 0.363687724239641, 0.13241907949218262, 0.018679143375517744, 0.14018781506932387])\n",
      "predicted_train_data.png\n"
     ]
    },
    {
     "data": {
      "image/png": "[encoded data removed]",
      "text/plain": [
       "<Figure size 432x288 with 1 Axes>"
      ]
     },
     "metadata": {
      "needs_background": "light"
     },
     "output_type": "display_data"
    }
   ],
   "source": [
    "data = df\n",
    "features = ['T(K)','P(bar)','Pc','Tc','omega']\n",
    "output = ['x1']\n",
    "dt_two_iterations_train_data(\"predicted_train_data\", data, features, output)"
   ]
  },
  {
   "cell_type": "code",
   "execution_count": null,
   "metadata": {
    "scrolled": true
   },
   "outputs": [],
   "source": [
    "def dt_generate_predicted_dataframe(gas, data,features,output):\n",
    "    dataframe = data\n",
    "    X=dataframe[features]\n",
    "    y=dataframe[output]\n",
    "    X_train,X_test,y_train,y_test=train_test_split(X,y,test_size=0.1,random_state=10)\n",
    "    print(\"total data: \",data.shape)\n",
    "    print(\"train data: \", X_train.shape)\n",
    "    print(\"test data: \",X_test.shape)\n",
    "    scaler=StandardScaler()\n",
    "    X_train_transformed=scaler.fit_transform(X_train)\n",
    "    X_test_transformed=scaler.transform(X_test)\n",
    "    \n",
    "    # initiate the model instance\n",
    "    #print(\"Initiating Decision Tree Instance\")\n",
    "    dt=DecisionTreeRegressor(random_state=10)\n",
    "    rf = RandomForestRegressor(n_estimators=10, random_state=10)\n",
    "\n",
    "    # create default model\n",
    "    dt=DecisionTreeRegressor(random_state=10)\n",
    "    dt.fit(X_train_transformed,y_train)\n",
    "    treedepth=dt.tree_.max_depth\n",
    "    #print(\"Default Tree Depth: \",treedepth)\n",
    "\n",
    "    # optimize the model based on default tree path\n",
    "    grid_param= {'max_depth':list(np.arange(treedepth-10,treedepth+10))}\n",
    "    clf = GridSearchCV(rf, grid_param,cv=5,scoring='neg_mean_absolute_error')\n",
    "    clf.fit(X_train_transformed,y_train)\n",
    "    #print(\"Optimized Tree Depth: \",clf.best_params_[\"max_depth\"])\n",
    "\n",
    "    # run decision tree on optimized model \n",
    "    dt=DecisionTreeRegressor(max_depth=clf.best_params_[\"max_depth\"],random_state=10)\n",
    "    dt.fit(X_train_transformed,y_train)\n",
    "    ytrain_pred_dt_itr1 = dt.predict(X_train_transformed)\n",
    "    ytest_pred_dt_itr1 = dt.predict(X_test_transformed)\n",
    "\n",
    "    # generate train data: \n",
    "    #print([each[0] for each in y_train.values])\n",
    "    #print(\"@@@@@@@@@@@@@@@@@@@@@@@@@@@@@@@@\")\n",
    "    #print(ytrain_pred_dt_itr1)\n",
    "    temp_df_train = pd.DataFrame()\n",
    "    temp_df_train['y_train_actual'] = [each[0] for each in y_train.values]\n",
    "    temp_df_train['y_train_pred'] = ytrain_pred_dt_itr1\n",
    "    \n",
    "    temp_df_test = pd.DataFrame()\n",
    "    temp_df_test['y_test_actual'] = [each[0] for each in y_test.values]\n",
    "    temp_df_test['y_test_pred'] = ytest_pred_dt_itr1\n",
    "    \n",
    "    temp_df_train.to_csv(\"train_result.csv\")\n",
    "    temp_df_test.to_csv(\"test_result.csv\")\n",
    "    print(\"end\")\n",
    "\n",
    "data = df\n",
    "features = ['T(K)','P(bar)','Pc','Tc','omega']\n",
    "output = ['x1']\n",
    "dt_generate_predicted_dataframe(\"predicted_train_data\", data, features, output)"
   ]
  },
  {
   "cell_type": "code",
   "execution_count": null,
   "metadata": {},
   "outputs": [],
   "source": []
  }
 ],
 "metadata": {
  "kernelspec": {
   "display_name": "Python 3",
   "language": "python",
   "name": "python3"
  },
  "language_info": {
   "codemirror_mode": {
    "name": "ipython",
    "version": 3
   },
   "file_extension": ".py",
   "mimetype": "text/x-python",
   "name": "python",
   "nbconvert_exporter": "python",
   "pygments_lexer": "ipython3",
   "version": "3.8.5"
  }
 },
 "nbformat": 4,
 "nbformat_minor": 4
}
